{
  "nbformat": 4,
  "nbformat_minor": 0,
  "metadata": {
    "colab": {
      "provenance": []
    },
    "kernelspec": {
      "name": "python3",
      "display_name": "Python 3"
    },
    "language_info": {
      "name": "python"
    }
  },
  "cells": [
    {
      "cell_type": "code",
      "execution_count": null,
      "metadata": {
        "colab": {
          "base_uri": "https://localhost:8080/"
        },
        "id": "gAYXe_crSQPZ",
        "outputId": "a61507ad-3551-4583-919b-97f0eafd390d"
      },
      "outputs": [
        {
          "output_type": "stream",
          "name": "stdout",
          "text": [
            "Looking in indexes: https://pypi.org/simple, https://us-python.pkg.dev/colab-wheels/public/simple/\n",
            "Collecting pyspark\n",
            "  Downloading pyspark-3.4.0.tar.gz (310.8 MB)\n",
            "\u001b[2K     \u001b[90m━━━━━━━━━━━━━━━━━━━━━━━━━━━━━━━━━━━━━━━\u001b[0m \u001b[32m310.8/310.8 MB\u001b[0m \u001b[31m3.3 MB/s\u001b[0m eta \u001b[36m0:00:00\u001b[0m\n",
            "\u001b[?25h  Preparing metadata (setup.py) ... \u001b[?25l\u001b[?25hdone\n",
            "Requirement already satisfied: py4j==0.10.9.7 in /usr/local/lib/python3.10/dist-packages (from pyspark) (0.10.9.7)\n",
            "Building wheels for collected packages: pyspark\n",
            "  Building wheel for pyspark (setup.py) ... \u001b[?25l\u001b[?25hdone\n",
            "  Created wheel for pyspark: filename=pyspark-3.4.0-py2.py3-none-any.whl size=311317130 sha256=17b01f8d92daa035591541c547e83820001512b86cdde65ca9c9eafb780d06a3\n",
            "  Stored in directory: /root/.cache/pip/wheels/7b/1b/4b/3363a1d04368e7ff0d408e57ff57966fcdf00583774e761327\n",
            "Successfully built pyspark\n",
            "Installing collected packages: pyspark\n",
            "Successfully installed pyspark-3.4.0\n"
          ]
        }
      ],
      "source": [
        "pip install pyspark"
      ]
    },
    {
      "cell_type": "code",
      "source": [
        "from pyspark import SparkContext, SparkConf\n",
        "conf = SparkConf().setAppName('Practice').setMaster('local[*]')\n",
        "sc = SparkContext(conf = conf)"
      ],
      "metadata": {
        "id": "poPW-rlMSyk6"
      },
      "execution_count": null,
      "outputs": []
    },
    {
      "cell_type": "code",
      "source": [
        "inputfile = sc.textFile(\"File.txt\")\n",
        "inputfile.collect()"
      ],
      "metadata": {
        "colab": {
          "base_uri": "https://localhost:8080/"
        },
        "id": "dP9blQxwS-si",
        "outputId": "17d95fae-9427-4f7d-8607-d30c0eb0e89f"
      },
      "execution_count": null,
      "outputs": [
        {
          "output_type": "execute_result",
          "data": {
            "text/plain": [
              "['A -> B, C, D', 'B-> A, D', 'C-> A', 'D-> B, C']"
            ]
          },
          "metadata": {},
          "execution_count": 3
        }
      ]
    },
    {
      "cell_type": "code",
      "source": [
        "# Part - A\n",
        "rdd = inputfile.map(lambda x: x.split(' -> '))\n",
        "rdd1 = rdd.map(lambda x: x[0].split())\n",
        "print(\"Total users who send Messages : \",rdd1.collect())"
      ],
      "metadata": {
        "colab": {
          "base_uri": "https://localhost:8080/"
        },
        "id": "ij7GiWwYTftj",
        "outputId": "cd490929-e627-4ee0-b7fb-10d652c8f074"
      },
      "execution_count": null,
      "outputs": [
        {
          "output_type": "stream",
          "name": "stdout",
          "text": [
            "Total users who send Messages :  [['A'], ['B'], ['C'], ['D']]\n"
          ]
        }
      ]
    },
    {
      "cell_type": "code",
      "source": [
        "# Part - B\n",
        "rdd2 = rdd.flatMap(lambda x: x[1].split(', '))\n",
        "print(\"The total number of Eid Greeting messages exchanged : \",rdd2.count())"
      ],
      "metadata": {
        "colab": {
          "base_uri": "https://localhost:8080/"
        },
        "id": "qtqNyR_pUial",
        "outputId": "60ebeddd-f6a1-4fa2-d386-4338960d0e13"
      },
      "execution_count": null,
      "outputs": [
        {
          "output_type": "stream",
          "name": "stdout",
          "text": [
            "The total number of Eid Greeting messages exchanged :  8\n"
          ]
        }
      ]
    },
    {
      "cell_type": "code",
      "source": [
        "# Part - C\n",
        "crdd1= rdd.map(lambda x: (x[0], x[1].split(', ')))\n",
        "crdd2 = crdd1.flatMap(lambda x: [(x[0], each) for each in x[1]] )\n",
        "Total = crdd2.collect()\n",
        "z = 0\n",
        "for x in Total:\n",
        "  for y in Total:\n",
        "    if ((x[1] == y[0]) and (x[0] == y[1])):\n",
        "      z +=1\n",
        "\n",
        "print('The number of users got a reply back: ', z)\n",
        "print('Therefore the number of users who didn\\'t get a reply back: ', rdd2.count() - z)"
      ],
      "metadata": {
        "colab": {
          "base_uri": "https://localhost:8080/"
        },
        "id": "JOETsJ7BUGnR",
        "outputId": "27969815-f59a-4b19-e379-d557bba88010"
      },
      "execution_count": null,
      "outputs": [
        {
          "output_type": "stream",
          "name": "stdout",
          "text": [
            "The number of users got a reply back:  6\n",
            "Therefore the number of users who didn't get a reply back:  2\n"
          ]
        }
      ]
    }
  ]
}